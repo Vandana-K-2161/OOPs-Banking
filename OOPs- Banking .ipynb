{
 "cells": [
  {
   "cell_type": "code",
   "execution_count": 16,
   "id": "2755e54d-10f3-44da-92dd-ed2b4344c3cd",
   "metadata": {},
   "outputs": [
    {
     "name": "stdout",
     "output_type": "stream",
     "text": [
      "\n",
      "Welcome to the Banking System.\n",
      "1. Register \n",
      "2. Login \n",
      "3. Exit\n"
     ]
    },
    {
     "name": "stdin",
     "output_type": "stream",
     "text": [
      "Please choose an option:  1\n",
      "Enter username:  vandana2161\n",
      "Enter password:  56283\n"
     ]
    },
    {
     "name": "stdout",
     "output_type": "stream",
     "text": [
      "Username created successful. Welcome vandana2161.\n",
      "\n",
      "Welcome to the Banking System.\n",
      "1. Register \n",
      "2. Login \n",
      "3. Exit\n"
     ]
    },
    {
     "name": "stdin",
     "output_type": "stream",
     "text": [
      "Please choose an option:  2\n",
      "Enter username:  vandana2161\n",
      "Enter password:  56283\n"
     ]
    },
    {
     "name": "stdout",
     "output_type": "stream",
     "text": [
      "Login successfull. Welcome {username}\n",
      "\n",
      "Options: \n",
      "1.Deposit Amount \n",
      "2.Wthdraw Amount \n",
      "3.Check Bank Balance \n",
      "4.Logout\n"
     ]
    },
    {
     "name": "stdin",
     "output_type": "stream",
     "text": [
      "\n",
      "Enter your choice: 1\n",
      "\n",
      "Enter your deposite amount:  25000\n"
     ]
    },
    {
     "name": "stdout",
     "output_type": "stream",
     "text": [
      "\n",
      "Successfully deposited 25000.0 new balance is: 25000.0\n",
      "\n",
      "Options: \n",
      "1.Deposit Amount \n",
      "2.Wthdraw Amount \n",
      "3.Check Bank Balance \n",
      "4.Logout\n"
     ]
    },
    {
     "name": "stdin",
     "output_type": "stream",
     "text": [
      "\n",
      "Enter your choice: 3\n"
     ]
    },
    {
     "name": "stdout",
     "output_type": "stream",
     "text": [
      "\n",
      "Your corrent balance is: 25000.0.\n",
      "\n",
      "Options: \n",
      "1.Deposit Amount \n",
      "2.Wthdraw Amount \n",
      "3.Check Bank Balance \n",
      "4.Logout\n"
     ]
    },
    {
     "name": "stdin",
     "output_type": "stream",
     "text": [
      "\n",
      "Enter your choice: 4\n"
     ]
    },
    {
     "name": "stdout",
     "output_type": "stream",
     "text": [
      "\n",
      "Thank you for using Banking System. Logging out...\n",
      "\n",
      "Welcome to the Banking System.\n",
      "1. Register \n",
      "2. Login \n",
      "3. Exit\n"
     ]
    },
    {
     "name": "stdin",
     "output_type": "stream",
     "text": [
      "Please choose an option:  2\n",
      "Enter username:  vandana2161\n",
      "Enter password:  1417\n"
     ]
    },
    {
     "name": "stdout",
     "output_type": "stream",
     "text": [
      "Invalid username or password!! Try again\n",
      "\n",
      "Welcome to the Banking System.\n",
      "1. Register \n",
      "2. Login \n",
      "3. Exit\n"
     ]
    },
    {
     "name": "stdin",
     "output_type": "stream",
     "text": [
      "Please choose an option:  3\n"
     ]
    },
    {
     "name": "stdout",
     "output_type": "stream",
     "text": [
      "Thank you for using Banking System.\n"
     ]
    }
   ],
   "source": [
    "class Account:\n",
    "    def __init__(self,account_number,password):\n",
    "        self.account_number = account_number\n",
    "        self.password = password\n",
    "        self.balance = 0\n",
    "    def deposit(self,amount):\n",
    "        if amount>0:\n",
    "            self.balance+=amount\n",
    "            print(f\"\\nSuccessfully deposited {amount} new balance is: {self.balance}\")\n",
    "        else :\n",
    "            print(\"\\nEnter positive amount.\")\n",
    "    \n",
    "    def withdrawal(self,amount):\n",
    "        if 0<amount<=self.balance:\n",
    "            self.balance -=amount\n",
    "            print(f\"\\nSuccessfully withdraw  {amount}. New balance is {self.balance}\")\n",
    "        elif amount > self.balance:\n",
    "            print(\"\\nInsufficient bank balance.\")\n",
    "        else:\n",
    "            print(\"\\nEnter positive amount.\")\n",
    "    \n",
    "    def check_balance(self):\n",
    "        print(f\"\\nYour corrent balance is: {self.balance}.\")\n",
    "\n",
    "\n",
    "class BankingSystem:\n",
    "    def __init__(self):\n",
    "        self.accounts = {}\n",
    "    def register(self,username,password):\n",
    "        if username in self.accounts:\n",
    "            print(\"Username already exists! Try different username.\")\n",
    "        else:\n",
    "            self.accounts[username] = Account(username,password)\n",
    "            print(f\"Username created successful. Welcome {username}.\")\n",
    "    def login(self,username,password):\n",
    "        account = self.accounts.get(username)\n",
    "        if account and account.password == password:\n",
    "            print(\"Login successfull. Welcome {username}\")\n",
    "            return account\n",
    "        else:\n",
    "            print(\"Invalid username or password!! Try again\")\n",
    "            return None\n",
    "                  \n",
    "def main():\n",
    "    banking_system = BankingSystem()\n",
    "    while True:\n",
    "        print(\"\\nWelcome to the Banking System.\")\n",
    "        print(\"1. Register \\n2. Login \\n3. Exit\")\n",
    "        \n",
    "        choice = input(\"Please choose an option: \")\n",
    "        \n",
    "        if choice =='1':\n",
    "            username = input(\"Enter username: \")\n",
    "            password = input(\"Enter password: \")\n",
    "            banking_system.register(username,password)\n",
    "        elif choice == '2':\n",
    "            username = input(\"Enter username: \")\n",
    "            password = input(\"Enter password: \")\n",
    "            account = banking_system.login(username,password)\n",
    "            if account:\n",
    "                while True:\n",
    "                    print(\"\\nOptions: \")\n",
    "                    print(\"1.Deposit Amount \\n2.Wthdraw Amount \\n3.Check Bank Balance \\n4.Logout\")\n",
    "                    choice = input(\"\\nEnter your choice:\")\n",
    "                    \n",
    "                    if choice == '1':\n",
    "                        amount = float(input(\"\\nEnter your deposite amount: \"))\n",
    "                        account.deposit(amount)\n",
    "                    elif choice == '2':\n",
    "                        amount = float(input(\"\\nEnter your withdraw amount: \"))\n",
    "                        account.withdrawal(amount)\n",
    "                    elif choice == '3':\n",
    "                        account.check_balance()\n",
    "                    elif choice == '4':\n",
    "                        print(\"\\nThank you for using Banking System. Logging out...\")\n",
    "                        break\n",
    "                    else:\n",
    "                        print(\"\\nInvalid choice. Please enter a valid option.\")\n",
    "        else:\n",
    "            print(\"Thank you for using Banking System.\")\n",
    "            break\n",
    "if __name__ == \"__main__\":\n",
    "    main()"
   ]
  },
  {
   "cell_type": "code",
   "execution_count": null,
   "id": "1b2f2b8e-5259-4b25-91a6-6afb7df32d4e",
   "metadata": {},
   "outputs": [],
   "source": []
  }
 ],
 "metadata": {
  "kernelspec": {
   "display_name": "Python 3 (ipykernel)",
   "language": "python",
   "name": "python3"
  },
  "language_info": {
   "codemirror_mode": {
    "name": "ipython",
    "version": 3
   },
   "file_extension": ".py",
   "mimetype": "text/x-python",
   "name": "python",
   "nbconvert_exporter": "python",
   "pygments_lexer": "ipython3",
   "version": "3.12.4"
  }
 },
 "nbformat": 4,
 "nbformat_minor": 5
}
